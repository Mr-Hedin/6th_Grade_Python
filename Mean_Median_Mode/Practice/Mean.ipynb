{
 "cells": [
  {
   "cell_type": "markdown",
   "id": "fe3efd23-b618-48e3-a565-47bb795a3c72",
   "metadata": {},
   "source": [
    "# Mean Practice - Finding the average of a set of numbers\n",
    "---\n",
    "\n",
    "## Finding the average is useful for a variety of reasons, you can find many data points that are useful in real life\n",
    "---\n",
    "### 1. The average of a set of tests/assignments can you tell you your grade in a class.\n",
    "### 2. The average of how much money you earn/allowance you get can help you determine how much you might earn next month.\n",
    "### 3. The average temperature outside over a week can tell you whether to wear warm clothes or not.\n",
    "---"
   ]
  },
  {
   "cell_type": "markdown",
   "id": "8b02df97-d585-4f31-8634-deabefeeee3a",
   "metadata": {},
   "source": [
    "# To make our lives simpler, the datareader.py file will handle the file reading - we can ask the datareader to get columns or rows of our data in Python list format\n",
    "---"
   ]
  },
  {
   "cell_type": "code",
   "execution_count": null,
   "id": "c83fe604-2af2-40b5-a645-40c6cd032cba",
   "metadata": {},
   "outputs": [],
   "source": [
    "import datareader\n",
    "column_1 = datareader.get_column(3)\n",
    "print(column_1)\n",
    "\n",
    "# Here we use the .pop command to remove the first item in the list - that item is just the title from our data!\n",
    "column_1.pop(0)\n",
    "print(column_1)"
   ]
  },
  {
   "cell_type": "markdown",
   "id": "67efaa6e-6222-4d4d-9308-375bc1eec2a0",
   "metadata": {},
   "source": [
    "# Finally, after prepping our data, we can take the average of our data set\n",
    "## You can reuse the code from your notes with some minor modifications"
   ]
  },
  {
   "cell_type": "code",
   "execution_count": null,
   "id": "03de0a4a-6d4c-4790-805d-bf714e74ac8a",
   "metadata": {},
   "outputs": [],
   "source": [
    "# First use the datareader.py script to get a list from the csv data file\n",
    "import datareader\n",
    "\n",
    "my_data = datareader.get_column(3)\n",
    "\n",
    "# Remove the title from our list with .pop(0) to \"pop\" the first item out of the list\n",
    "my_data.pop(0)\n",
    "\n",
    "# Now we just plug our big ol' list of data into the average formula we made last class!\n",
    "\n",
    "# First, add all of the numbers\n",
    "total = 0\n",
    "for number in my_data:\n",
    "    total += int(number)\n",
    "\n",
    "# Second, divide by the number of numbers\n",
    "average = total / len(my_data)\n",
    "print(average)"
   ]
  },
  {
   "cell_type": "markdown",
   "id": "8691aecf-ad26-4572-a770-4c280859774c",
   "metadata": {},
   "source": [
    "# Now for the real magic! Create a function to find the average so we can reuse our code as many times as we want\n",
    "### The best type of code is the code you never have to write again!"
   ]
  },
  {
   "cell_type": "code",
   "execution_count": null,
   "id": "17a341bf-7db8-4930-ad24-6ac326aa6d1a",
   "metadata": {},
   "outputs": [],
   "source": [
    "import datareader\n",
    "my_data = datareader.get_column(3)\n",
    "my_data.pop(0)\n",
    "\n",
    "\n",
    "def find_average(number_list):\n",
    "    total = 0\n",
    "    for number in number_list:\n",
    "        total += int(number)\n",
    "    average = total / len(my_data)\n",
    "    return average\n",
    "\n",
    "# Call the function - use the csv data and plug it in as the argument, that way we'll get the average of our column!\n",
    "find_average(my_data)"
   ]
  },
  {
   "cell_type": "code",
   "execution_count": 18,
   "id": "a52b4263-18b1-4ced-9e8a-5fc9199a0744",
   "metadata": {},
   "outputs": [],
   "source": [
    "# Now throw in as many columns or rows as you'd like!\n",
    "data0 = datareader.get_column(3)\n",
    "data0.pop(0)\n",
    "average0 = find_average(data0)\n",
    "\n",
    "data1 = datareader.get_column(4)\n",
    "data1.pop(0)\n",
    "average1 = find_average(data1)\n",
    "\n",
    "data2 = datareader.get_column(5)\n",
    "data2.pop(0)\n",
    "average2 = find_average(data2)\n"
   ]
  }
 ],
 "metadata": {
  "kernelspec": {
   "display_name": "Python 3 (ipykernel)",
   "language": "python",
   "name": "python3"
  },
  "language_info": {
   "codemirror_mode": {
    "name": "ipython",
    "version": 3
   },
   "file_extension": ".py",
   "mimetype": "text/x-python",
   "name": "python",
   "nbconvert_exporter": "python",
   "pygments_lexer": "ipython3",
   "version": "3.10.10"
  }
 },
 "nbformat": 4,
 "nbformat_minor": 5
}
